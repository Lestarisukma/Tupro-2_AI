{
  "nbformat": 4,
  "nbformat_minor": 0,
  "metadata": {
    "colab": {
      "name": "IF4202_1301184345.ipynb",
      "provenance": [],
      "collapsed_sections": []
    },
    "kernelspec": {
      "display_name": "Python 3",
      "name": "python3"
    }
  },
  "cells": [
    {
      "cell_type": "code",
      "metadata": {
        "id": "CaysLIcEDPzK"
      },
      "source": [
        "from google.colab import files \n",
        "import pandas as pd \n",
        "import io\n",
        "import numpy as np\n",
        "import matplotlib.pyplot as plt"
      ],
      "execution_count": null,
      "outputs": []
    },
    {
      "cell_type": "code",
      "metadata": {
        "id": "wAx5SLvtDePk",
        "outputId": "6d5e33bf-d12a-4f22-dbf6-d45ffe457dcc",
        "colab": {
          "resources": {
            "http://localhost:8080/nbextensions/google.colab/files.js": {
              "data": "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",
              "ok": true,
              "headers": [
                [
                  "content-type",
                  "application/javascript"
                ]
              ],
              "status": 200,
              "status_text": ""
            }
          },
          "base_uri": "https://localhost:8080/",
          "height": 72
        }
      },
      "source": [
        "uploaded = files.upload()\n",
        "dafram = pd.read_excel(io.BytesIO(uploaded['Mahasiswa.xls']))\n",
        "data = []\n",
        "\n",
        "for i in range(len(dafram)):\n",
        "  data.append([dafram['Id'][i],dafram['Penghasilan'][i],dafram['Penghasilan'][i]-dafram['Pengeluaran'][i]])\n"
      ],
      "execution_count": null,
      "outputs": [
        {
          "output_type": "display_data",
          "data": {
            "text/html": [
              "\n",
              "     <input type=\"file\" id=\"files-dc887bb1-77c0-49f3-9cd0-01d87e698ac7\" name=\"files[]\" multiple disabled\n",
              "        style=\"border:none\" />\n",
              "     <output id=\"result-dc887bb1-77c0-49f3-9cd0-01d87e698ac7\">\n",
              "      Upload widget is only available when the cell has been executed in the\n",
              "      current browser session. Please rerun this cell to enable.\n",
              "      </output>\n",
              "      <script src=\"/nbextensions/google.colab/files.js\"></script> "
            ],
            "text/plain": [
              "<IPython.core.display.HTML object>"
            ]
          },
          "metadata": {
            "tags": []
          }
        },
        {
          "output_type": "stream",
          "text": [
            "Saving Mahasiswa.xls to Mahasiswa (1).xls\n"
          ],
          "name": "stdout"
        }
      ]
    },
    {
      "cell_type": "markdown",
      "metadata": {
        "id": "6QPdyvWoFWPF"
      },
      "source": [
        "Membership"
      ]
    },
    {
      "cell_type": "code",
      "metadata": {
        "id": "fwfW8pYrDojn"
      },
      "source": [
        "def inclow(x):\n",
        "  a = 3\n",
        "  b = 8\n",
        "  if x <= a:\n",
        "    return 1\n",
        "  elif x > b:\n",
        "    return 0\n",
        "  elif x > a and x <= b:\n",
        "    return (b-x)/(b-a)\n",
        "\n",
        "def incavg(x):\n",
        "  a = 3\n",
        "  b = 16.6\n",
        "  c = 9\n",
        "  d = 14\n",
        "  if x <= a or x > b:\n",
        "    return 0\n",
        "  elif x > a and x <= c:\n",
        "    return (x-a)/(c-a)\n",
        "  elif x > c and x <= d:\n",
        "    return 1\n",
        "  elif x > d and x <= b:\n",
        "    return (b - x) / (b - d)\n",
        "\n",
        "def inchigh(x):\n",
        "  a = 14.5\n",
        "  b = 17.99\n",
        "  if x <= a:\n",
        "    return 0\n",
        "  elif x > b:\n",
        "    return 1\n",
        "  elif x > a and x <= b:\n",
        "    return (x - a) / (b - a)\n"
      ],
      "execution_count": null,
      "outputs": []
    },
    {
      "cell_type": "code",
      "metadata": {
        "id": "m4oh2i3-JQ20",
        "outputId": "1a62aa55-ff04-44b4-b61c-a8570cce726d",
        "colab": {
          "base_uri": "https://localhost:8080/",
          "height": 282
        }
      },
      "source": [
        "#grafik income \n",
        "plotGrafik = np.arange(0, 20, 0.1)\n",
        "plt.plot(plotGrafik,[inclow(x) for x in plotGrafik], label = 'Lower')\n",
        "plt.plot(plotGrafik,[incavg(x) for x in plotGrafik], label = 'Middle')\n",
        "plt.plot(plotGrafik,[inchigh(x) for x in plotGrafik], label = 'Upper')\n",
        "plt.legend()"
      ],
      "execution_count": null,
      "outputs": [
        {
          "output_type": "execute_result",
          "data": {
            "text/plain": [
              "<matplotlib.legend.Legend at 0x7f3f97398400>"
            ]
          },
          "metadata": {
            "tags": []
          },
          "execution_count": 28
        },
        {
          "output_type": "display_data",
          "data": {
            "image/png": "[encoded data removed]",
            "text/plain": [
              "<Figure size 432x288 with 1 Axes>"
            ]
          },
          "metadata": {
            "tags": [],
            "needs_background": "light"
          }
        }
      ]
    },
    {
      "cell_type": "code",
      "metadata": {
        "id": "EjvizYS_KR0o"
      },
      "source": [
        "def dikit(x):\n",
        "  p = 0\n",
        "  q = 3\n",
        "  if x <= 0:\n",
        "    return 1\n",
        "  elif x > p and x <= q:\n",
        "    return (q - x)/(q - p)\n",
        "  elif (x > q):\n",
        "    return 0\n",
        "\n",
        "def cukup(x):\n",
        "  p = 0\n",
        "  q = 3\n",
        "  r = 8.90\n",
        "  s = 6\n",
        "  if x <= p or x > r:\n",
        "    return 0\n",
        "  elif x > p and x <= q:\n",
        "    return (x - p)/(q - p)\n",
        "  elif x > q and x <= s:\n",
        "    return 1\n",
        "  elif x > s and x <= r:\n",
        "    return (r - x)/(r - s)\n",
        "def banyak(x):\n",
        "  t = 6.5 \n",
        "  r = 8.90\n",
        "  if x > r :\n",
        "    return 1\n",
        "  elif x > t and x <= r:\n",
        "    return (x - t)/(r - t)\n",
        "  elif x <= t:\n",
        "    return 0\n"
      ],
      "execution_count": 49,
      "outputs": []
    },
    {
      "cell_type": "code",
      "metadata": {
        "id": "u-NZD1f2MEeU",
        "outputId": "d30311e6-a104-4b24-c276-cdb64677606e",
        "colab": {
          "base_uri": "https://localhost:8080/",
          "height": 282
        }
      },
      "source": [
        "plotGrafik = np.arange(-4, 12, 0.1)\n",
        "plt.plot(plotGrafik, [dikit(x) for x in plotGrafik], label = 'Sedikit')\n",
        "plt.plot(plotGrafik,[cukup(x) for x in plotGrafik], label = 'Cukup')\n",
        "plt.plot(plotGrafik,[banyak(x) for x in plotGrafik], label = 'Banyak')\n",
        "plt.legend()"
      ],
      "execution_count": 50,
      "outputs": [
        {
          "output_type": "execute_result",
          "data": {
            "text/plain": [
              "<matplotlib.legend.Legend at 0x7f3f971a5ef0>"
            ]
          },
          "metadata": {
            "tags": []
          },
          "execution_count": 50
        },
        {
          "output_type": "display_data",
          "data": {
            "image/png": "[encoded data removed]",
            "text/plain": [
              "<Figure size 432x288 with 1 Axes>"
            ]
          },
          "metadata": {
            "tags": [],
            "needs_background": "light"
          }
        }
      ]
    },
    {
      "cell_type": "markdown",
      "metadata": {
        "id": "FCGKDvG5NX3R"
      },
      "source": [
        "Fuzzification"
      ]
    },
    {
      "cell_type": "code",
      "metadata": {
        "id": "qvcpaLhqNWtw"
      },
      "source": [
        "incoming = []\n",
        "residual = []\n",
        "\n",
        "for i in range(100):\n",
        "  incoming.append([data[i][0],inclow(data[i][1]),incavg(data[i][1]),inchigh(data[i][1])])\n",
        "  residual.append([data[i][0],dikit(data[i][2]),cukup(data[i][2]),banyak(data[i][2])])\n"
      ],
      "execution_count": 51,
      "outputs": []
    },
    {
      "cell_type": "markdown",
      "metadata": {
        "id": "4STbbvbIyDXo"
      },
      "source": [
        " RULE\n",
        "\n",
        "\n",
        "\n",
        "\n",
        "\n"
      ]
    },
    {
      "cell_type": "markdown",
      "metadata": {
        "id": "xuAMZnbRPfhh"
      },
      "source": [
        "| INCOME | RESIDUAL | SCORE? |\n",
        "| --- | --- | --- |\n",
        "| HIGH | BANYAK | REJECTED  |\n",
        "| HIGH | CUKUP | REJECTED |\n",
        "| HIGH | SEDIKIT | CONSIDERED |\n",
        "| AVERAGE | BANYAK | REJECTED |\n",
        "| AVERAGE | CUKUP | CONSIDERED |\n",
        "| AVERAGE | SEDIKIT | ACCEPETED |\n",
        "| LOW | BANYAK | CONSIDERED |\n",
        "| LOW | CUKUP | CONSIDERED |\n",
        "| LOW | SEDIKIT | ACCEPTED |"
      ]
    },
    {
      "cell_type": "code",
      "metadata": {
        "id": "ladq3vWaPaqV"
      },
      "source": [
        "inferensi = []\n",
        "for i in range(100):\n",
        "  accepted = []\n",
        "  considered = []\n",
        "  rejected = []\n",
        "\n",
        "  accepted.append(min(incoming[i][1], residual[i][1]))\n",
        "  accepted.append(min(incoming[i][2], residual[i][1]))\n",
        "  \n",
        "  considered.append(min(incoming[i][3], residual[i][2]))\n",
        "  considered.append(min(incoming[i][2], residual[i][2]))\n",
        "  considered.append(min(incoming[i][1], residual[i][2]))\n",
        "  considered.append(min(incoming[i][1], residual[i][3]))\n",
        "  considered.append(min(incoming[i][3], residual[i][1]))\n",
        "\n",
        "  rejected.append(min(incoming[i][3], residual[i][3]))\n",
        "  rejected.append(min(incoming[i][2], residual[i][3]))\n",
        "  rejected.append(min(incoming[i][3], residual[i][2]))\n",
        "\n",
        "  yes = max(accepted)\n",
        "  waiting = max(considered)\n",
        "  no = max(rejected)\n",
        "\n",
        "  inferensi.append([data[i][0], yes, waiting, no])\n"
      ],
      "execution_count": 66,
      "outputs": []
    },
    {
      "cell_type": "markdown",
      "metadata": {
        "id": "Idelf3j0WULB"
      },
      "source": [
        "Defuzzification"
      ]
    },
    {
      "cell_type": "code",
      "metadata": {
        "id": "IDKMwm7cWAB3",
        "outputId": "e3c692ce-7347-4999-e814-5007d069788f",
        "colab": {
          "base_uri": "https://localhost:8080/"
        }
      },
      "source": [
        "#menggunakan metode sugeno \n",
        "kriteria = []\n",
        "\n",
        "for i in range(100):\n",
        "  kriteria.append([data[i][0], ((inferensi[i][1]*30) + (inferensi[i][2]*75) + (inferensi[i][3]*100)) / ((inferensi[i][1]) + (inferensi[i][2]) + (inferensi[i][3]))])\n",
        "kriteria"
      ],
      "execution_count": 67,
      "outputs": [
        {
          "output_type": "execute_result",
          "data": {
            "text/plain": [
              "[[1, 100.0],\n",
              " [2, 75.0],\n",
              " [3, 87.5],\n",
              " [4, 30.0],\n",
              " [5, 100.00000000000001],\n",
              " [6, 90.83656080557707],\n",
              " [7, 30.0],\n",
              " [8, 100.0],\n",
              " [9, 87.5],\n",
              " [10, 100.0],\n",
              " [11, 30.000000000000004],\n",
              " [12, 75.0],\n",
              " [13, 30.0],\n",
              " [14, 75.0],\n",
              " [15, 100.0],\n",
              " [16, 69.15000000000002],\n",
              " [17, 87.49999999999999],\n",
              " [18, 85.90689541612433],\n",
              " [19, 75.0],\n",
              " [20, 100.0],\n",
              " [21, 82.7498905809022],\n",
              " [22, 100.0],\n",
              " [23, 75.0],\n",
              " [24, 100.0],\n",
              " [25, 30.0],\n",
              " [26, 75.0],\n",
              " [27, 100.0],\n",
              " [28, 100.0],\n",
              " [29, 87.5],\n",
              " [30, 100.0],\n",
              " [31, 100.0],\n",
              " [32, 93.14812996956907],\n",
              " [33, 30.0],\n",
              " [34, 100.0],\n",
              " [35, 100.0],\n",
              " [36, 77.71720613287904],\n",
              " [37, 75.0],\n",
              " [38, 30.0],\n",
              " [39, 75.0],\n",
              " [40, 87.5],\n",
              " [41, 30.0],\n",
              " [42, 75.0],\n",
              " [43, 75.0],\n",
              " [44, 88.57592446892212],\n",
              " [45, 87.5],\n",
              " [46, 30.0],\n",
              " [47, 30.0],\n",
              " [48, 75.0],\n",
              " [49, 30.0],\n",
              " [50, 30.0],\n",
              " [51, 91.43462739848283],\n",
              " [52, 30.0],\n",
              " [53, 85.9390048154093],\n",
              " [54, 91.47161387472589],\n",
              " [55, 87.5],\n",
              " [56, 75.0],\n",
              " [57, 90.41117145073702],\n",
              " [58, 93.93207547169811],\n",
              " [59, 75.0],\n",
              " [60, 75.0],\n",
              " [61, 75.0],\n",
              " [62, 74.85],\n",
              " [63, 30.599999999999987],\n",
              " [64, 94.406015037594],\n",
              " [65, 71.84999999999998],\n",
              " [66, 30.0],\n",
              " [67, 75.87575496117343],\n",
              " [68, 75.0],\n",
              " [69, 30.0],\n",
              " [70, 99.99999999999999],\n",
              " [71, 83.64081632653061],\n",
              " [72, 75.0],\n",
              " [73, 87.5],\n",
              " [74, 75.0],\n",
              " [75, 29.999999999999996],\n",
              " [76, 75.0],\n",
              " [77, 89.80514419329695],\n",
              " [78, 92.87779327233766],\n",
              " [79, 30.0],\n",
              " [80, 95.0678349349915],\n",
              " [81, 30.0],\n",
              " [82, 87.5],\n",
              " [83, 87.5],\n",
              " [84, 78.33875524355791],\n",
              " [85, 79.02372486071721],\n",
              " [86, 76.81792756257866],\n",
              " [87, 100.0],\n",
              " [88, 91.55275060329753],\n",
              " [89, 84.53333333333332],\n",
              " [90, 100.0],\n",
              " [91, 91.09007832898172],\n",
              " [92, 100.0],\n",
              " [93, 75.0],\n",
              " [94, 30.0],\n",
              " [95, 100.00000000000001],\n",
              " [96, 87.5],\n",
              " [97, 100.0],\n",
              " [98, 75.1778093883357],\n",
              " [99, 30.0],\n",
              " [100, 75.0]]"
            ]
          },
          "metadata": {
            "tags": []
          },
          "execution_count": 67
        }
      ]
    },
    {
      "cell_type": "markdown",
      "metadata": {
        "id": "EWtq7FVcjDOo"
      },
      "source": [
        "SORTING "
      ]
    },
    {
      "cell_type": "code",
      "metadata": {
        "id": "NUYFkT6wjCqb",
        "outputId": "457cbdc3-5c2b-4b35-e331-7c6c8f1d37d0",
        "colab": {
          "base_uri": "https://localhost:8080/"
        }
      },
      "source": [
        "x = sorted(kriteria,key=lambda x: x[1], reverse=True)\n",
        "print(x)"
      ],
      "execution_count": 69,
      "outputs": [
        {
          "output_type": "stream",
          "text": [
            "[[5, 100.00000000000001], [95, 100.00000000000001], [1, 100.0], [8, 100.0], [10, 100.0], [15, 100.0], [20, 100.0], [22, 100.0], [24, 100.0], [27, 100.0], [28, 100.0], [30, 100.0], [31, 100.0], [34, 100.0], [35, 100.0], [87, 100.0], [90, 100.0], [92, 100.0], [97, 100.0], [70, 99.99999999999999], [80, 95.0678349349915], [64, 94.406015037594], [58, 93.93207547169811], [32, 93.14812996956907], [78, 92.87779327233766], [88, 91.55275060329753], [54, 91.47161387472589], [51, 91.43462739848283], [91, 91.09007832898172], [6, 90.83656080557707], [57, 90.41117145073702], [77, 89.80514419329695], [44, 88.57592446892212], [3, 87.5], [9, 87.5], [29, 87.5], [40, 87.5], [45, 87.5], [55, 87.5], [73, 87.5], [82, 87.5], [83, 87.5], [96, 87.5], [17, 87.49999999999999], [53, 85.9390048154093], [18, 85.90689541612433], [89, 84.53333333333332], [71, 83.64081632653061], [21, 82.7498905809022], [85, 79.02372486071721], [84, 78.33875524355791], [36, 77.71720613287904], [86, 76.81792756257866], [67, 75.87575496117343], [98, 75.1778093883357], [2, 75.0], [12, 75.0], [14, 75.0], [19, 75.0], [23, 75.0], [26, 75.0], [37, 75.0], [39, 75.0], [42, 75.0], [43, 75.0], [48, 75.0], [56, 75.0], [59, 75.0], [60, 75.0], [61, 75.0], [68, 75.0], [72, 75.0], [74, 75.0], [76, 75.0], [93, 75.0], [100, 75.0], [62, 74.85], [65, 71.84999999999998], [16, 69.15000000000002], [63, 30.599999999999987], [11, 30.000000000000004], [4, 30.0], [7, 30.0], [13, 30.0], [25, 30.0], [33, 30.0], [38, 30.0], [41, 30.0], [46, 30.0], [47, 30.0], [49, 30.0], [50, 30.0], [52, 30.0], [66, 30.0], [69, 30.0], [79, 30.0], [81, 30.0], [94, 30.0], [99, 30.0], [75, 29.999999999999996]]\n"
          ],
          "name": "stdout"
        }
      ]
    },
    {
      "cell_type": "markdown",
      "metadata": {
        "id": "Gi7k102um2fP"
      },
      "source": [
        "MAIN CODE "
      ]
    },
    {
      "cell_type": "code",
      "metadata": {
        "id": "EMGwo6oYm1io",
        "outputId": "83b25ead-b5b4-4729-a054-a364e4ae5dc0",
        "colab": {
          "base_uri": "https://localhost:8080/"
        }
      },
      "source": [
        "result = []\n",
        "for i in range(20):\n",
        "  result.append(x[i][0])\n",
        "\n",
        "hasil = pd.DataFrame(np.asarray(result), columns=['Id'])\n",
        "print(hasil)\n",
        "hasil.to_excel(\"Bantuan.xlsx\", index=False)\n",
        "#files.download('Bantuan.xlsx')\n"
      ],
      "execution_count": 68,
      "outputs": [
        {
          "output_type": "stream",
          "text": [
            "    Id\n",
            "0    5\n",
            "1   95\n",
            "2    1\n",
            "3    8\n",
            "4   10\n",
            "5   15\n",
            "6   20\n",
            "7   22\n",
            "8   24\n",
            "9   27\n",
            "10  28\n",
            "11  30\n",
            "12  31\n",
            "13  34\n",
            "14  35\n",
            "15  87\n",
            "16  90\n",
            "17  92\n",
            "18  97\n",
            "19  70\n"
          ],
          "name": "stdout"
        }
      ]
    }
  ]
}